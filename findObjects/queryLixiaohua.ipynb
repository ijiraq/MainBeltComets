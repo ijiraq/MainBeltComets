{
 "metadata": {
  "name": "",
  "signature": "sha256:d5668e2cd10184f7cc627c612dfbdc39d38d593b384912bd49a4fd59d866d0c9"
 },
 "nbformat": 3,
 "nbformat_minor": 0,
 "worksheets": [
  {
   "cells": [
    {
     "cell_type": "code",
     "collapsed": false,
     "input": [
      "import numpy as np\n",
      "import matplotlib.pyplot as plt\n",
      "import pandas as pd\n",
      "import seaborn as sns\n",
      "%matplotlib inline\n",
      "from astropy.io import ascii\n",
      "from astropy.table import Table, Column"
     ],
     "language": "python",
     "metadata": {},
     "outputs": [],
     "prompt_number": 1
    },
    {
     "cell_type": "heading",
     "level": 3,
     "metadata": {},
     "source": [
      "Open and parse CometEls data"
     ]
    },
    {
     "cell_type": "code",
     "collapsed": false,
     "input": [
      "with open(\"CometEls.txt\", \"rw+\") as infile:\n",
      "\n",
      "    Cnumlist = []\n",
      "    Cqlist = []\n",
      "    Cecclist = []\n",
      "    Cinclist = []\n",
      "    Cnamelist = []\n",
      "\n",
      "\n",
      "    for line in infile.readlines():\n",
      "        s = line\n",
      "        number = s[0:12].strip()      # number\n",
      "        q = float(s[30:40].strip())   # perihelion distance (AU)\n",
      "        ecc = float(s[41:50].strip()) # orbital eccentricity\n",
      "        inc = float(s[71:80].strip()) # inclination, J@00.0 (degrees)\n",
      "        name = s[102:159].strip()     # designation and name\n",
      "        Cnumlist.append(number)\n",
      "        Cqlist.append(q)\n",
      "        Cecclist.append(ecc)\n",
      "        Cinclist.append(inc)\n",
      "        Cnamelist.append(name)\n",
      "\n",
      "    Ctabledata = Table([Cnumlist, Cqlist, Cecclist, Cinclist], \n",
      "              names=('number', 'perihelion', 'eccentricity', 'inclination'))\n",
      "\n",
      "Ctabledata[\"semimajor_axis\"] = Ctabledata['perihelion']/(1 - Ctabledata['eccentricity'])  # a=q/(1-e)\n",
      "Ctabledata[\"data_type\"] = 'Comet'\n",
      "\n",
      "# convert from astropy.table to panda.DataFrame so that I don't have to change query section\n",
      "Ctable = pd.DataFrame(np.array(Ctabledata))"
     ],
     "language": "python",
     "metadata": {},
     "outputs": [],
     "prompt_number": 2
    },
    {
     "cell_type": "heading",
     "level": 3,
     "metadata": {},
     "source": [
      "Find objects in CometEls data set with orbital elements of Lixiaohua family"
     ]
    },
    {
     "cell_type": "heading",
     "level": 4,
     "metadata": {},
     "source": [
      "Lixiaohua: a = 3.156 AU, e = 0.242, i = 10.97 degrees"
     ]
    },
    {
     "cell_type": "code",
     "collapsed": false,
     "input": [
      "in_rangeComets = Ctable.query('(3.1 < semimajor_axis < 3.2) & (0.22 < eccentricity < 0.26) & (10.5 < inclination < 11.5)')\n",
      "print in_rangeComets[0:5]\n",
      "\n",
      "if len(in_rangeComets) == 0:\n",
      "    print \" no Lixiaohua family objects in MPCORB file \""
     ],
     "language": "python",
     "metadata": {},
     "outputs": [
      {
       "output_type": "stream",
       "stream": "stdout",
       "text": [
        "       number  perihelion  eccentricity  inclination  semimajor_axis data_type\n",
        "326  PK12T010    2.402959      0.237045      11.0566        3.149542     Comet\n",
        "772     0313P    2.391616      0.241835      10.9665        3.154480     Comet\n"
       ]
      }
     ],
     "prompt_number": 19
    },
    {
     "cell_type": "heading",
     "level": 3,
     "metadata": {},
     "source": [
      "Open and parse MPCORB data"
     ]
    },
    {
     "cell_type": "code",
     "collapsed": false,
     "input": [
      "with open(\"MPCORB.DAT\", \"rw+\") as infile: \n",
      "\n",
      "    MPCORBnumlist = []\n",
      "    MPCORBqlist = []\n",
      "    MPCORBecclist = []\n",
      "    MPCORBinclist = []\n",
      "    MPCORBnamelist = []\n",
      "    MPCORBalist = []\n",
      "    \n",
      "    # skip header files\n",
      "    x = 0\n",
      "    for x in range (0, 41):\n",
      "        next(infile)\n",
      "        x += 1\n",
      "\n",
      "    for line in infile: #.readlines():\n",
      "        try:\n",
      "            s = line\n",
      "            number = s[0:8].strip()       # object number\n",
      "            q = float(s[37:47].strip())   # perihelion distance (AU)\n",
      "            ecc = float(s[70:80].strip()) # orbital eccentricity\n",
      "            inc = float(s[59:69].strip()) # inclination, J200.0 (degrees)\n",
      "            name = s[107:117].strip()     # designation and name\n",
      "            a = float(s[92:104].strip())  # semimajor axis (AU)\n",
      "            MPCORBnumlist.append(number)\n",
      "            MPCORBqlist.append(q)\n",
      "            MPCORBecclist.append(ecc)\n",
      "            MPCORBinclist.append(inc)\n",
      "            MPCORBnamelist.append(name)\n",
      "            MPCORBalist.append(a)\n",
      "        except ValueError, e: \n",
      "            print line, e\n",
      "    \n",
      "MPCORBtabledata = Table([MPCORBnumlist, MPCORBqlist, MPCORBecclist, MPCORBinclist, MPCORBalist], \n",
      "          names=('number', 'perihelion', 'eccentricity', 'inclination', 'semimajor_axis'))\n",
      "\n",
      "MPCORBtabledata[\"data_type\"] = 'MPCORB'\n",
      "\n",
      "# convert from astropy.table to panda.DataFrame so that I don't have to change query section\n",
      "MPCORBtable = pd.DataFrame(np.array(MPCORBtabledata))"
     ],
     "language": "python",
     "metadata": {},
     "outputs": [
      {
       "output_type": "stream",
       "stream": "stdout",
       "text": [
        "\n",
        "could not convert string to float: \n",
        "\n"
       ]
      },
      {
       "output_type": "stream",
       "stream": "stdout",
       "text": [
        "could not convert string to float: \n"
       ]
      }
     ],
     "prompt_number": 4
    },
    {
     "cell_type": "heading",
     "level": 3,
     "metadata": {},
     "source": [
      "Find objects in CometEls data set with orbital elements of Lixiaohua family"
     ]
    },
    {
     "cell_type": "code",
     "collapsed": false,
     "input": [
      "in_rangeMPCORB = MPCORBtable.query('(3.1 < semimajor_axis < 3.2) & (0.22 < eccentricity < 0.26) & (10.5 < inclination < 11.5)')\n",
      "print in_rangeMPCORB[0:5]\n",
      "\n",
      "if len(in_rangeMPCORB) == 0:\n",
      "    print \" no Lixiaohua family objects in MPCORB file \""
     ],
     "language": "python",
     "metadata": {},
     "outputs": [
      {
       "output_type": "stream",
       "stream": "stdout",
       "text": [
        "      number  perihelion  eccentricity  inclination  semimajor_axis data_type\n",
        "930    00931   314.93593      0.226695     11.47425        3.175226    MPCORB\n",
        "11643  11644    60.86712      0.247616     10.74436        3.118149    MPCORB\n",
        "15751  15752   238.25027      0.229373     10.85039        3.164511    MPCORB\n",
        "16484  16485   168.06068      0.223247     10.61783        3.164077    MPCORB\n",
        "17229  17230   247.91503      0.230914     10.90618        3.151170    MPCORB\n"
       ]
      }
     ],
     "prompt_number": 18
    },
    {
     "cell_type": "heading",
     "level": 3,
     "metadata": {},
     "source": [
      "Find confirmed comets (list in mbc.txt) in CometEls data set "
     ]
    },
    {
     "cell_type": "code",
     "collapsed": false,
     "input": [
      "with open(\"mbc.txt\") as infile:\n",
      "    filestr = infile.read()\n",
      "input_mbc_numbers = filestr.split('\\n') # array of MBCs to query\n",
      "\n",
      "mbc_qlist = []\n",
      "mbc_alist = []\n",
      "mbc_elist = []\n",
      "mbc_ilist = []\n",
      "\n",
      "# NEED UNIT TEST HERE TO MAKE SURE OBJECTS IN LIST ARE IN TABLE\n",
      "for num in input_mbc_numbers:\n",
      "    # query = 'number == \"{}\"'.format(num)    \n",
      "    object = Ctable.query('number == \"{}\"'.format(num))\n",
      "    q1 = float(object[\"perihelion\"])\n",
      "    a1 = float(object[\"semimajor_axis\"])\n",
      "    inc1 = float(object[\"inclination\"])\n",
      "    ecc1 = float(object[\"eccentricity\"])\n",
      "    mbc_qlist.append(q1)\n",
      "    mbc_alist.append(a1)\n",
      "    mbc_elist.append(ecc1)\n",
      "    mbc_ilist.append(inc1)\n",
      "\n",
      "mbcdata = {'name': input_mbc_numbers, 'perihelion': mbc_qlist, \\\n",
      "           'eccentricity': mbc_elist, 'inclination': mbc_ilist, \\\n",
      "           'semimajor_axis': mbc_alist}\n",
      "mbctable = pd.DataFrame(mbcdata)\n",
      "mbctable[\"data_type\"] = 'Conf. Comet'"
     ],
     "language": "python",
     "metadata": {},
     "outputs": [],
     "prompt_number": 24
    },
    {
     "cell_type": "heading",
     "level": 3,
     "metadata": {},
     "source": [
      "Combine tables and plot (without Confirmed Comets a.t.m.)"
     ]
    },
    {
     "cell_type": "code",
     "collapsed": false,
     "input": [
      "lixtable = pd.concat(objs=(in_rangeComets, in_rangeMPCORB))\n",
      "lixtable[\"data_type\"] = 'Lix_family'\n",
      "\n",
      "\n",
      "table = pd.concat(objs=(MPCORBtable, lixtable))\n",
      "#print table[\"data_type\"]\n"
     ],
     "language": "python",
     "metadata": {},
     "outputs": [],
     "prompt_number": 44
    },
    {
     "cell_type": "code",
     "collapsed": false,
     "input": [
      "pg = sns.PairGrid(table, x_vars=[\"semimajor_axis\"], y_vars=[\"eccentricity\", \"inclination\"], \n",
      "                  aspect=4, hue=\"data_type\", hue_order=[\"MPCORB\", \"Lix_family\"], palette=\"husl\")\n",
      "plt.xlim(2, 3.5)\n",
      "pg.axes[0][0].set_ylim([0,1])\n",
      "plt.ylim(0,16)  \n",
      "pg.map(plt.scatter[hue=\"MPCORB\"], alpha=0.5, s=2) \n",
      "pg.map(plt.scatter[hue=\"Lix_family\"], alpha=0.5, s=10) \n",
      "pg.add_legend(title='data type')"
     ],
     "language": "python",
     "metadata": {},
     "outputs": [
      {
       "ename": "SyntaxError",
       "evalue": "invalid syntax (<ipython-input-49-c10df9459448>, line 6)",
       "output_type": "pyerr",
       "traceback": [
        "\u001b[0;36m  File \u001b[0;32m\"<ipython-input-49-c10df9459448>\"\u001b[0;36m, line \u001b[0;32m6\u001b[0m\n\u001b[0;31m    pg.map(plt.scatter[hue=\"MPCORB\"], alpha=0.5, s=2)\u001b[0m\n\u001b[0m                          ^\u001b[0m\n\u001b[0;31mSyntaxError\u001b[0m\u001b[0;31m:\u001b[0m invalid syntax\n"
       ]
      }
     ],
     "prompt_number": 49
    },
    {
     "cell_type": "code",
     "collapsed": false,
     "input": [],
     "language": "python",
     "metadata": {},
     "outputs": []
    }
   ],
   "metadata": {}
  }
 ]
}